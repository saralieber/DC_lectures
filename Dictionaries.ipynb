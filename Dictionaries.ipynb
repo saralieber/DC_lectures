{
  "nbformat": 4,
  "nbformat_minor": 0,
  "metadata": {
    "colab": {
      "name": "Dictionaries.ipynb",
      "provenance": [],
      "authorship_tag": "ABX9TyNYa7/DPnnkym4OmHt/hhae",
      "include_colab_link": true
    },
    "kernelspec": {
      "name": "python3",
      "display_name": "Python 3"
    }
  },
  "cells": [
    {
      "cell_type": "markdown",
      "metadata": {
        "id": "view-in-github",
        "colab_type": "text"
      },
      "source": [
        "<a href=\"https://colab.research.google.com/github/saralieber/DC_lectures/blob/master/Dictionaries.ipynb\" target=\"_parent\"><img src=\"https://colab.research.google.com/assets/colab-badge.svg\" alt=\"Open In Colab\"/></a>"
      ]
    },
    {
      "cell_type": "code",
      "metadata": {
        "id": "Uc0ccvA8mrTL",
        "colab_type": "code",
        "colab": {
          "base_uri": "https://localhost:8080/",
          "height": 73
        },
        "outputId": "36e5f414-91ce-4842-93ab-8eed4929bd0d"
      },
      "source": [
        "# A dictionary is a type of data that associates a key with a value\n",
        "## The general format for a dictionary is:\n",
        "\n",
        "# my_dict = {\n",
        "#    \"key1\":\"value1\",\n",
        "#    \"key2\",\"value2\",\n",
        "# }\n",
        "\n",
        "# Example - take these two separate lists of countries and capitals and combine into a dictionary\n",
        "countries = ['spain', 'france', 'germany', 'norway']\n",
        "capitals = ['madrid', 'paris', 'berlin', 'oslo']\n",
        "\n",
        "europe = {\n",
        "    'spain':'madrid', # the first item before the colon is the key: the second item after the colon is the value\n",
        "    'france':'paris',\n",
        "    'germany':'berlin',\n",
        "    'norway':'olso',\n",
        "}\n",
        "\n",
        "print(europe)"
      ],
      "execution_count": 3,
      "outputs": [
        {
          "output_type": "stream",
          "text": [
            "{'spain': 'madrid', 'france': 'paris', 'germany': 'berlin', 'norway': 'olso'}\n"
          ],
          "name": "stdout"
        },
        {
          "output_type": "execute_result",
          "data": {
            "text/plain": [
              "'paris'"
            ]
          },
          "metadata": {
            "tags": []
          },
          "execution_count": 3
        }
      ]
    },
    {
      "cell_type": "code",
      "metadata": {
        "id": "YQI9MtCcoG9f",
        "colab_type": "code",
        "colab": {
          "base_uri": "https://localhost:8080/",
          "height": 35
        },
        "outputId": "f8bf0cd4-d7b2-489b-8cf9-fc99eab7311d"
      },
      "source": [
        "# Accessing values in the dictionary\n",
        "## USe indexing of a key to get its corresponding value\n",
        "\n",
        "# Example: get the capital of france\n",
        "print(europe['france'])\n",
        "\n",
        "# the .keys method prints out all the keys\n",
        "print(europe.keys())"
      ],
      "execution_count": 5,
      "outputs": [
        {
          "output_type": "stream",
          "text": [
            "dict_keys(['spain', 'france', 'germany', 'norway'])\n"
          ],
          "name": "stdout"
        }
      ]
    }
  ]
}